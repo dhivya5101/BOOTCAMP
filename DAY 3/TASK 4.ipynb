{
 "cells": [
  {
   "cell_type": "code",
   "execution_count": 2,
   "id": "60b746ac-2174-49bf-8332-3a62844828dd",
   "metadata": {},
   "outputs": [
    {
     "name": "stdout",
     "output_type": "stream",
     "text": [
      "Leo is a Golden hybrid of Dog and Cat.\n",
      "Leo says Woof!\n",
      "Leo is sleeping.\n",
      "A Golden cat says Meow!\n",
      "A Golden cat is purring.\n"
     ]
    }
   ],
   "source": [
    "class Dog:\n",
    "    def __init__(self, name, age):\n",
    "        self.name = name\n",
    "        self.age = age\n",
    "\n",
    "    def bark(self):\n",
    "        return f\"{self.name} says Woof!\"\n",
    "\n",
    "    def sleep(self):\n",
    "        return f\"{self.name} is sleeping.\"\n",
    "\n",
    "class Cat:\n",
    "    def __init__(self, color):\n",
    "        self.color = color\n",
    "\n",
    "    def meow(self):\n",
    "        return f\"A {self.color} cat says Meow!\"\n",
    "\n",
    "    def purr(self):\n",
    "        return f\"A {self.color} cat is purring.\"\n",
    "\n",
    "class Hybrid(Dog, Cat):\n",
    "    def __init__(self, name, age, color):\n",
    "        Dog.__init__(self, name, age)  \n",
    "        Cat.__init__(self, color)      \n",
    "\n",
    "    def show_traits(self):\n",
    "        return f\"{self.name} is a {self.color} hybrid of Dog and Cat.\"\n",
    "\n",
    "\n",
    "hybrid1 = Hybrid(\"Leo\", 2, \"Golden\")\n",
    "\n",
    "print(hybrid1.show_traits()) \n",
    "print(hybrid1.bark())         \n",
    "print(hybrid1.sleep())       \n",
    "print(hybrid1.meow())        \n",
    "print(hybrid1.purr())    "
   ]
  },
  {
   "cell_type": "code",
   "execution_count": null,
   "id": "ed409c43-f44b-4c69-9458-98ecb9b9c7e7",
   "metadata": {},
   "outputs": [],
   "source": []
  }
 ],
 "metadata": {
  "kernelspec": {
   "display_name": "Python 3 (ipykernel)",
   "language": "python",
   "name": "python3"
  },
  "language_info": {
   "codemirror_mode": {
    "name": "ipython",
    "version": 3
   },
   "file_extension": ".py",
   "mimetype": "text/x-python",
   "name": "python",
   "nbconvert_exporter": "python",
   "pygments_lexer": "ipython3",
   "version": "3.12.4"
  }
 },
 "nbformat": 4,
 "nbformat_minor": 5
}
