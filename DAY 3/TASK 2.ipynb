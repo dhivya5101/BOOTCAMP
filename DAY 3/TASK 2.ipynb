{
 "cells": [
  {
   "cell_type": "code",
   "execution_count": 2,
   "id": "1759e26e-7e51-4cb7-b36b-21e1eef2a784",
   "metadata": {},
   "outputs": [
    {
     "name": "stdout",
     "output_type": "stream",
     "text": [
      "Dog Name: sweety\n",
      "Dog Age: 2\n",
      "sweety says Woof!\n",
      "sweety is sleeping.\n"
     ]
    }
   ],
   "source": [
    "class Dog:\n",
    "    def __init__(self, name, age):\n",
    "        self.name = name\n",
    "        self.age = age\n",
    "\n",
    "    def bark(self):\n",
    "        return f\"{self.name} says Woof!\"\n",
    "\n",
    "    def sleep(self):\n",
    "        return f\"{self.name} is sleeping.\"\n",
    "\n",
    "dog1 = Dog(\"sweety\", 2)\n",
    "\n",
    "print(f\"Dog Name: {dog1.name}\")  \n",
    "print(f\"Dog Age: {dog1.age}\")    \n",
    "print(dog1.bark())              \n",
    "print(dog1.sleep())   "
   ]
  },
  {
   "cell_type": "code",
   "execution_count": null,
   "id": "9533b8c9-96c8-4ee0-a460-d14be679c0ed",
   "metadata": {},
   "outputs": [],
   "source": []
  }
 ],
 "metadata": {
  "kernelspec": {
   "display_name": "Python 3 (ipykernel)",
   "language": "python",
   "name": "python3"
  },
  "language_info": {
   "codemirror_mode": {
    "name": "ipython",
    "version": 3
   },
   "file_extension": ".py",
   "mimetype": "text/x-python",
   "name": "python",
   "nbconvert_exporter": "python",
   "pygments_lexer": "ipython3",
   "version": "3.12.4"
  }
 },
 "nbformat": 4,
 "nbformat_minor": 5
}
