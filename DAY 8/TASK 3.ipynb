{
 "cells": [
  {
   "cell_type": "code",
   "execution_count": 2,
   "id": "93fd1771-b1e9-43a7-9009-37c0adf4f06a",
   "metadata": {},
   "outputs": [
    {
     "data": {
      "image/png": "[encoded data removed]",
      "text/plain": [
       "<Figure size 1000x500 with 2 Axes>"
      ]
     },
     "metadata": {},
     "output_type": "display_data"
    }
   ],
   "source": [
    "import tensorflow as tf\n",
    "import numpy as np\n",
    "import matplotlib.pyplot as plt\n",
    "\n",
    "# Step 1: Load a sample image from MNIST\n",
    "mnist = tf.keras.datasets.mnist\n",
    "(x_train, y_train), _ = mnist.load_data()\n",
    "\n",
    "# Select the first image and normalize it\n",
    "image = x_train[0].astype(np.float32) / 255.0  # Normalize to [0,1]\n",
    "image = np.expand_dims(image, axis=(0, -1))  # Reshape to (1, 28, 28, 1) for TensorFlow\n",
    "\n",
    "# Step 2: Define a 3x3 diagonal filter manually\n",
    "filter_weights = np.array([\n",
    "    [1, 0, 0], \n",
    "    [0, 1, 0], \n",
    "    [0, 0, 1]\n",
    "], dtype=np.float32)\n",
    "\n",
    "# Reshape filter to match TensorFlow format (Height, Width, Channels, Num_Filters)\n",
    "filter_weights = np.expand_dims(filter_weights, axis=-1)  # (3, 3, 1)\n",
    "filter_weights = np.expand_dims(filter_weights, axis=-1)  # (3, 3, 1, 1)\n",
    "\n",
    "# Step 3: Apply convolution with stride=1, no padding (valid)\n",
    "image_tensor = tf.convert_to_tensor(image, dtype=tf.float32)\n",
    "filter_tensor = tf.convert_to_tensor(filter_weights, dtype=tf.float32)\n",
    "\n",
    "feature_map = tf.nn.conv2d(image_tensor, filter_tensor, strides=1, padding=\"VALID\")\n",
    "feature_map = feature_map.numpy().squeeze()  # Convert back to NumPy and remove extra dimensions\n",
    "\n",
    "# Step 4: Visualize the Feature Map\n",
    "plt.figure(figsize=(10,5))\n",
    "\n",
    "# Original Image\n",
    "plt.subplot(1, 2, 1)\n",
    "plt.imshow(image.squeeze(), cmap=\"gray\")\n",
    "plt.title(\"Original Image\")\n",
    "plt.axis(\"off\")\n",
    "\n",
    "# Feature Map\n",
    "plt.subplot(1, 2, 2)\n",
    "plt.imshow(feature_map, cmap=\"gray\")\n",
    "plt.title(\"Feature Map (Convolved)\")\n",
    "plt.axis(\"off\")\n",
    "\n",
    "plt.show()\n"
   ]
  },
  {
   "cell_type": "code",
   "execution_count": null,
   "id": "9414e5d0-2a3b-4d07-b363-ce4087a5f288",
   "metadata": {},
   "outputs": [],
   "source": []
  }
 ],
 "metadata": {
  "kernelspec": {
   "display_name": "Python 3 (ipykernel)",
   "language": "python",
   "name": "python3"
  },
  "language_info": {
   "codemirror_mode": {
    "name": "ipython",
    "version": 3
   },
   "file_extension": ".py",
   "mimetype": "text/x-python",
   "name": "python",
   "nbconvert_exporter": "python",
   "pygments_lexer": "ipython3",
   "version": "3.12.4"
  }
 },
 "nbformat": 4,
 "nbformat_minor": 5
}
