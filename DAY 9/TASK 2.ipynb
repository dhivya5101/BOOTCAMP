{
 "cells": [
  {
   "cell_type": "code",
   "execution_count": 2,
   "id": "3335fb08-fc4d-48b7-b3bf-d8a3c081e6e9",
   "metadata": {},
   "outputs": [],
   "source": [
    "import cv2\n",
    "import numpy as np\n",
    "import matplotlib.pyplot as plt\n",
    "import tensorflow as tf\n",
    "from scipy.signal import convolve2d\n"
   ]
  },
  {
   "cell_type": "code",
   "execution_count": 22,
   "id": "18311f5d-da00-4755-954d-42b56b3a3f91",
   "metadata": {},
   "outputs": [],
   "source": [
    "image_path = \"cat.11.jpg\"  # Ensure the image exists in your directory\n",
    "image = cv2.imread(image_path, cv2.IMREAD_GRAYSCALE)"
   ]
  },
  {
   "cell_type": "code",
   "execution_count": 6,
   "id": "18cc1457-b1a8-4da2-8f8b-edcac35f32d8",
   "metadata": {},
   "outputs": [],
   "source": [
    "if image is None:\n",
    "    raise ValueError(\"Error: Image not found. Check the file path.\")"
   ]
  },
  {
   "cell_type": "code",
   "execution_count": 8,
   "id": "49b61409-0f1b-427d-a9e3-5123f682372f",
   "metadata": {},
   "outputs": [],
   "source": [
    "# Define an edge detection filter\n",
    "filter = np.array([[-1, -1, -1], \n",
    "                   [-1,  8, -1], \n",
    "                   [-1, -1, -1]])\n"
   ]
  },
  {
   "cell_type": "code",
   "execution_count": 10,
   "id": "965002b6-fe2c-401c-91ac-b931f32163bb",
   "metadata": {},
   "outputs": [],
   "source": [
    "# Apply convolution\n",
    "feature_map = convolve2d(image, filter, mode='valid') "
   ]
  },
  {
   "cell_type": "code",
   "execution_count": 12,
   "id": "54b804ca-7347-43f2-bc56-c3c83ea76b1a",
   "metadata": {},
   "outputs": [],
   "source": [
    "relu_feature_map = tf.nn.relu(feature_map).numpy()"
   ]
  },
  {
   "cell_type": "code",
   "execution_count": 14,
   "id": "28fdf294-71f0-4e05-aae5-0726a9d2245b",
   "metadata": {},
   "outputs": [],
   "source": [
    "relu_feature_map = np.expand_dims(relu_feature_map, axis=(0, -1))  # Reshape for TensorFlow pooling\n",
    "pooled_feature_map = tf.nn.max_pool2d(relu_feature_map, ksize=2, strides=2, padding='VALID')"
   ]
  },
  {
   "cell_type": "code",
   "execution_count": 16,
   "id": "f2e77cab-3cf3-47e2-888b-5e3233580988",
   "metadata": {},
   "outputs": [],
   "source": [
    "# Convert back to numpy for visualization\n",
    "pooled_feature_map = pooled_feature_map.numpy().squeeze()"
   ]
  },
  {
   "cell_type": "code",
   "execution_count": 18,
   "id": "a1aad38a-3ce1-474f-b64d-8fffc5b50d31",
   "metadata": {},
   "outputs": [
    {
     "data": {
      "image/png": "[encoded data removed]",
      "text/plain": [
       "<Figure size 640x480 with 1 Axes>"
      ]
     },
     "metadata": {},
     "output_type": "display_data"
    }
   ],
   "source": [
    "# Step 4: Visualize the final feature map (Expected size: 31x31)\n",
    "plt.imshow(pooled_feature_map, cmap='gray')\n",
    "plt.title(\"Feature Map after ReLU & Max Pooling (31x31)\")\n",
    "plt.axis('off')\n",
    "plt.show()"
   ]
  },
  {
   "cell_type": "code",
   "execution_count": 20,
   "id": "bb5b0e7b-e22e-440e-badb-3d91bd6eb982",
   "metadata": {},
   "outputs": [
    {
     "name": "stdout",
     "output_type": "stream",
     "text": [
      "Original Feature Map Size: (62, 62)\n",
      "Reduced Feature Map Size: (31, 31)\n"
     ]
    }
   ],
   "source": [
    "\n",
    "# Step 5: Confirm size reduction\n",
    "print(f\"Original Feature Map Size: {feature_map.shape}\")\n",
    "print(f\"Reduced Feature Map Size: {pooled_feature_map.shape}\")"
   ]
  },
  {
   "cell_type": "code",
   "execution_count": null,
   "id": "44a0e822-7dd2-4c9b-86ba-f44e0312ba3d",
   "metadata": {},
   "outputs": [],
   "source": []
  }
 ],
 "metadata": {
  "kernelspec": {
   "display_name": "Python 3 (ipykernel)",
   "language": "python",
   "name": "python3"
  },
  "language_info": {
   "codemirror_mode": {
    "name": "ipython",
    "version": 3
   },
   "file_extension": ".py",
   "mimetype": "text/x-python",
   "name": "python",
   "nbconvert_exporter": "python",
   "pygments_lexer": "ipython3",
   "version": "3.12.4"
  }
 },
 "nbformat": 4,
 "nbformat_minor": 5
}
