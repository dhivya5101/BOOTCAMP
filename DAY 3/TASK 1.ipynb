{
 "cells": [
  {
   "cell_type": "code",
   "execution_count": 1,
   "id": "3288bbba-8675-472a-bdef-cce08a22a6a9",
   "metadata": {},
   "outputs": [
    {
     "name": "stdout",
     "output_type": "stream",
     "text": [
      "messy\n",
      "5\n",
      "messy says Woof!\n",
      "messy is sleeping.\n"
     ]
    }
   ],
   "source": [
    "class Dog:\n",
    "    def __init__(self, name, age):\n",
    "        self.name = name\n",
    "        self.age = age\n",
    "\n",
    "    def bark(self):\n",
    "        return f\"{self.name} says Woof!\"\n",
    "\n",
    "    def sleep(self):\n",
    "        return f\"{self.name} is sleeping.\"\n",
    "        \n",
    "dog1 = Dog(\"messy\", 5)\n",
    "\n",
    "print(dog1.name)   \n",
    "print(dog1.age)    \n",
    "print(dog1.bark()) \n",
    "print(dog1.sleep())"
   ]
  },
  {
   "cell_type": "code",
   "execution_count": null,
   "id": "fcdfd4fd-992b-4e1b-bd0b-4f3d0895ce17",
   "metadata": {},
   "outputs": [],
   "source": []
  }
 ],
 "metadata": {
  "kernelspec": {
   "display_name": "Python 3 (ipykernel)",
   "language": "python",
   "name": "python3"
  },
  "language_info": {
   "codemirror_mode": {
    "name": "ipython",
    "version": 3
   },
   "file_extension": ".py",
   "mimetype": "text/x-python",
   "name": "python",
   "nbconvert_exporter": "python",
   "pygments_lexer": "ipython3",
   "version": "3.12.4"
  }
 },
 "nbformat": 4,
 "nbformat_minor": 5
}
