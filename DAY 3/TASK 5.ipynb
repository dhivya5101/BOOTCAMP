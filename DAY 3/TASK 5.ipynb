{
 "cells": [
  {
   "cell_type": "code",
   "execution_count": 1,
   "id": "067d98e1-885f-4da2-9f00-1ed051a822b7",
   "metadata": {},
   "outputs": [
    {
     "name": "stdout",
     "output_type": "stream",
     "text": [
      "RoboX's Energy Level: 50\n",
      "RoboX's energy updated to 90.\n",
      "RoboX charged! New energy level: 100\n",
      "Error: Direct access to private attribute is not allowed!\n",
      "Model: RX-100\n"
     ]
    }
   ],
   "source": [
    "class Robot:\n",
    "    def __init__(self, name, model, energy_level):\n",
    "        self.name = name \n",
    "        self._model = model  \n",
    "        self.__energy_level = energy_level  \n",
    "\n",
    "    def get_energy(self):\n",
    "        return f\"{self.name}'s Energy Level: {self.__energy_level}\"\n",
    "        \n",
    "    def set_energy(self, new_energy):\n",
    "        if 0 <= new_energy <= 100:\n",
    "            self.__energy_level = new_energy\n",
    "            return f\"{self.name}'s energy updated to {self.__energy_level}.\"\n",
    "        else:\n",
    "            return \"Invalid energy level. Must be between 0 and 100.\"\n",
    "\n",
    "    def charge(self, amount):\n",
    "        if amount > 0:\n",
    "            self.__energy_level = min(self.__energy_level + amount, 100)\n",
    "            return f\"{self.name} charged! New energy level: {self.__energy_level}\"\n",
    "        else:\n",
    "            return \"Invalid charge amount.\"\n",
    "\n",
    "\n",
    "robot1 = Robot(\"RoboX\", \"RX-100\", 50)\n",
    "\n",
    "print(robot1.get_energy())  \n",
    "print(robot1.set_energy(90))  \n",
    "print(robot1.charge(15)) \n",
    "try:\n",
    "    print(robot1.__energy_level)  \n",
    "except AttributeError:\n",
    "    print(\"Error: Direct access to private attribute is not allowed!\")\n",
    "print(f\"Model: {robot1._model}\")  "
   ]
  },
  {
   "cell_type": "code",
   "execution_count": null,
   "id": "7a842449-6d0e-4b00-9e6f-19268e7b80da",
   "metadata": {},
   "outputs": [],
   "source": []
  }
 ],
 "metadata": {
  "kernelspec": {
   "display_name": "Python 3 (ipykernel)",
   "language": "python",
   "name": "python3"
  },
  "language_info": {
   "codemirror_mode": {
    "name": "ipython",
    "version": 3
   },
   "file_extension": ".py",
   "mimetype": "text/x-python",
   "name": "python",
   "nbconvert_exporter": "python",
   "pygments_lexer": "ipython3",
   "version": "3.12.4"
  }
 },
 "nbformat": 4,
 "nbformat_minor": 5
}
