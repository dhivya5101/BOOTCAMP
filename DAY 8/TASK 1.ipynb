{
 "cells": [
  {
   "cell_type": "code",
   "execution_count": 2,
   "id": "2056fa7b-32e2-435d-9590-7cefd944ba3f",
   "metadata": {},
   "outputs": [
    {
     "name": "stdout",
     "output_type": "stream",
     "text": [
      "Updated W1: 3.1525\n"
     ]
    }
   ],
   "source": [
    "import numpy as np\n",
    "\n",
    "X = np.array([5, 10, 30, 1])  # Input features\n",
    "y = 20  # Target value\n",
    "\n",
    "# Step 2: Initialize weights\n",
    "W1, W2, W3, W4, W5, W6 = 1, 0, -1, 0.5, 1, -1\n",
    "\n",
    "# Step 3: Forward pass\n",
    "H1 = W1 * X[0] + W2 * X[1]\n",
    "H2 = W3 * X[0] + W4 * X[3]\n",
    "y_hat = W5 * H1 + W6 * H2\n",
    "\n",
    "# Step 4: Compute error\n",
    "error = (y_hat - y) ** 2\n",
    "\n",
    "# Step 5: Backpropagation\n",
    "learning_rate = 0.01\n",
    "\n",
    "dJ_dyhat = 2 * (y_hat - y)  # Derivative of loss w.r.t output\n",
    "\n",
    "dyhat_dW5 = H1  # Partial derivative of output w.r.t W5\n",
    "dJ_dW5 = dJ_dyhat * dyhat_dW5  # Gradient for W5\n",
    "W5 = W5 - learning_rate * dJ_dW5  # Update W5\n",
    "\n",
    "dyhat_dH1 = W5  # Partial derivative of output w.r.t H1 (before update)\n",
    "dH1_dW1 = X[0]  # Partial derivative of H1 w.r.t W1\n",
    "dJ_dW1 = dJ_dyhat * dyhat_dH1 * dH1_dW1  # Chain rule application\n",
    "W1 = W1 - learning_rate * dJ_dW1  # Update W1\n",
    "\n",
    "# Print new values\n",
    "print(f\"Updated W1: {W1}\")"
   ]
  },
  {
   "cell_type": "code",
   "execution_count": null,
   "id": "f65a82d2-5e49-4f80-9cd7-b93ea578e58d",
   "metadata": {},
   "outputs": [],
   "source": []
  }
 ],
 "metadata": {
  "kernelspec": {
   "display_name": "Python 3 (ipykernel)",
   "language": "python",
   "name": "python3"
  },
  "language_info": {
   "codemirror_mode": {
    "name": "ipython",
    "version": 3
   },
   "file_extension": ".py",
   "mimetype": "text/x-python",
   "name": "python",
   "nbconvert_exporter": "python",
   "pygments_lexer": "ipython3",
   "version": "3.12.4"
  }
 },
 "nbformat": 4,
 "nbformat_minor": 5
}
