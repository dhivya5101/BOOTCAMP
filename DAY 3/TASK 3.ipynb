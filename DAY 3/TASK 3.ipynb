{
 "cells": [
  {
   "cell_type": "code",
   "execution_count": 2,
   "id": "bcc96c0d-e09d-4ee3-a5d6-f01e22370ff0",
   "metadata": {},
   "outputs": [
    {
     "name": "stdout",
     "output_type": "stream",
     "text": [
      "Dog Name: Loosy\n",
      "Dog Age: 1\n",
      "Loosy says Woof!\n",
      "Loosy is sleeping.\n",
      "Loosy is playing.\n"
     ]
    }
   ],
   "source": [
    "class Dog:\n",
    "    def __init__(self, name, age):\n",
    "        self.name = name\n",
    "        self.age = age\n",
    "\n",
    "    def bark(self):\n",
    "        return f\"{self.name} says Woof!\"\n",
    "\n",
    "    def sleep(self):\n",
    "        return f\"{self.name} is sleeping.\"\n",
    "\n",
    "    def play(self):\n",
    "        return f\"{self.name} is playing.\"\n",
    "        \n",
    "dog1 = Dog(\"Loosy\", 1)\n",
    "        \n",
    "print(f\"Dog Name: {dog1.name}\")  \n",
    "print(f\"Dog Age: {dog1.age}\")     \n",
    "print(dog1.bark())               \n",
    "print(dog1.sleep())                \n",
    "print(dog1.play())  \n"
   ]
  },
  {
   "cell_type": "code",
   "execution_count": null,
   "id": "3f1e5d34-147b-49d9-a494-4d98930411cd",
   "metadata": {},
   "outputs": [],
   "source": []
  }
 ],
 "metadata": {
  "kernelspec": {
   "display_name": "Python 3 (ipykernel)",
   "language": "python",
   "name": "python3"
  },
  "language_info": {
   "codemirror_mode": {
    "name": "ipython",
    "version": 3
   },
   "file_extension": ".py",
   "mimetype": "text/x-python",
   "name": "python",
   "nbconvert_exporter": "python",
   "pygments_lexer": "ipython3",
   "version": "3.12.4"
  }
 },
 "nbformat": 4,
 "nbformat_minor": 5
}
