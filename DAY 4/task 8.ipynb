{
 "cells": [
  {
   "cell_type": "code",
   "execution_count": null,
   "id": "83856a08-b243-41d4-8db4-771455cf99f1",
   "metadata": {},
   "outputs": [],
   "source": []
  }
 ],
 "metadata": {
  "kernelspec": {
   "display_name": "",
   "name": ""
  },
  "language_info": {
   "name": ""
  }
 },
 "nbformat": 4,
 "nbformat_minor": 5
}
